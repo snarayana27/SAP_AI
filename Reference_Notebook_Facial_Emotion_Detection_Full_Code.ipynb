{
  "cells": [
    {
      "cell_type": "markdown",
      "metadata": {
        "id": "view-in-github",
        "colab_type": "text"
      },
      "source": [
        "<a href=\"https://colab.research.google.com/github/snarayana27/SAP_AI/blob/main/Reference_Notebook_Facial_Emotion_Detection_Full_Code.ipynb\" target=\"_parent\"><img src=\"https://colab.research.google.com/assets/colab-badge.svg\" alt=\"Open In Colab\"/></a>"
      ]
    },
    {
      "cell_type": "markdown",
      "metadata": {
        "id": "bg-DvjFCyXSr"
      },
      "source": [
        "# **Facial Emotion Detection**"
      ]
    },
    {
      "cell_type": "markdown",
      "metadata": {
        "id": "DYdEI31whyE-"
      },
      "source": [
        "## **Problem Definition**\n",
        "\n",
        "**The context:** Why is this problem important to solve?<br>\n",
        "**The objectives:** What is the intended goal?<br>\n",
        "**The key questions:** What are the key questions that need to be answered?<br>\n",
        "**The problem formulation:** What are we trying to solve using data science?\n",
        "\n",
        "\n",
        "\n",
        "## **About the dataset**\n",
        "\n",
        "The data set consists of 3 folders, i.e., 'test', 'train', and 'validation'. \n",
        "Each of these folders has four subfolders:\n",
        "\n",
        "**‘happy’**: Images of people who have happy facial expressions.<br>\n",
        "**‘sad’**: Images of people with sad or upset facial expressions.<br>\n",
        "**‘surprise’**: Images of people who have shocked or surprised facial expressions.<br>\n",
        "**‘neutral’**: Images of people showing no prominent emotion in their facial expression at all.<br>\n"
      ]
    },
    {
      "cell_type": "markdown",
      "metadata": {
        "id": "HDM89XHyCxrA"
      },
      "source": [
        "## **Mounting the Drive**\n",
        "\n",
        "**NOTE:**  Please use Google Colab from your browser for this notebook. **Google.colab is NOT a library that can be downloaded locally on your device.**"
      ]
    },
    {
      "cell_type": "code",
      "execution_count": 1,
      "metadata": {
        "id": "JQi_degJC3dm",
        "colab": {
          "base_uri": "https://localhost:8080/"
        },
        "outputId": "4a8ceab6-00fd-4f7d-f08c-05f9f101bd5d"
      },
      "outputs": [
        {
          "output_type": "stream",
          "name": "stdout",
          "text": [
            "Mounted at /content/gdrive\n"
          ]
        }
      ],
      "source": [
        "from google.colab import drive\n",
        "drive.mount('/content/gdrive')\n",
        "\n",
        "\n",
        "\n",
        "\n",
        "\n"
      ]
    },
    {
      "cell_type": "markdown",
      "source": [],
      "metadata": {
        "id": "xxTIsNgMOhj6"
      }
    },
    {
      "cell_type": "markdown",
      "metadata": {
        "id": "UC8-yLUUCcWh"
      },
      "source": [
        "## **Importing the Libraries**"
      ]
    },
    {
      "cell_type": "code",
      "execution_count": 4,
      "metadata": {
        "id": "30fd2144"
      },
      "outputs": [],
      "source": [
        "import zipfile\n",
        "import os\n",
        "import pandas as pd\n",
        "import seaborn as sns\n",
        "import numpy as np\n",
        "import matplotlib.pyplot as plt\n",
        "\n",
        "from tensorflow.keras.preprocessing.image import load_img,img_to_array\n",
        "from tensorflow.keras.preprocessing.image import ImageDataGenerator\n",
        "from tensorflow.keras.layers import Dense, Input, Dropout,GlobalAveragePooling2D,Flatten,Conv2D,BatchNormalization,Activation,MaxPooling2D,LeakyReLU\n",
        "from tensorflow.keras.models import Model, Sequential\n",
        "from tensorflow.keras.optimizers import Adam,SGD, RMSprop\n",
        "\n",
        "\n",
        "\n",
        "\n"
      ]
    },
    {
      "cell_type": "markdown",
      "metadata": {
        "id": "nCqJk2XpCnJi"
      },
      "source": [
        "### **Let us load and unzip the data**"
      ]
    },
    {
      "cell_type": "markdown",
      "metadata": {
        "id": "_syvBdMlDTsr"
      },
      "source": [
        "**Note:** \n",
        "- You must download the dataset from the link provided on Olympus and upload the same on your Google drive before executing the code in the next cell.\n",
        "- In case of any error, please make sure that the path of the file is correct as the path may be different for you."
      ]
    },
    {
      "cell_type": "code",
      "execution_count": 9,
      "metadata": {
        "id": "sMfr4tK04C0o"
      },
      "outputs": [],
      "source": [
        "\n",
        "\n",
        "path = \"/content/Facial_emotion_images.zip\"\n",
        "\n",
        "\n",
        "\n"
      ]
    },
    {
      "cell_type": "code",
      "source": [
        "with zipfile.ZipFile(path, 'r') as zip_ref:\n",
        "    zip_ref.extractall()"
      ],
      "metadata": {
        "id": "6NaGR3CyPACg"
      },
      "execution_count": 10,
      "outputs": []
    },
    {
      "cell_type": "markdown",
      "metadata": {
        "id": "YpkYTD705Eky"
      },
      "source": [
        "## **Visualizing our Classes**\n",
        "\n",
        "Let's look at our classes. \n",
        "\n",
        "**Write down your observation for each class. What do you think can be a unique feature of each emotion, that separates it from the remaining classes?**"
      ]
    },
    {
      "cell_type": "markdown",
      "metadata": {
        "id": "Mb59IxA35WF-"
      },
      "source": [
        "### **Happy**"
      ]
    },
    {
      "cell_type": "markdown",
      "metadata": {
        "id": "RWYioRFM5jMJ"
      },
      "source": [
        "**Observations and Insights:__Happy: The main distinguishing feature is the presence of a smile. Both males and females of various age groups are represented in the dataset. All images are in black and white. This diversity within the class is useful as it makes the model versatile and generalizable.Upward curve of the lips (smile) is visible. The eyes are also creased, and cheeks  raised. These features separate happy emotions from others.**"
      ]
    },
    {
      "cell_type": "code",
      "source": [
        "def show_images(path, num_images=5):\n",
        "    images = os.listdir(path)\n",
        "    num_images = min(len(images), num_images)\n",
        "    random_images = random.sample(images, num_images)\n",
        "\n",
        "    for img_name in random_images:\n",
        "        img_path = os.path.join(path, img_name)\n",
        "        img = cv2.imread(img_path, cv2.IMREAD_GRAYSCALE)\n",
        "        plt.figure(figsize=(5,5))\n",
        "        plt.imshow(img, cmap='gray')\n",
        "        plt.axis('off')\n",
        "        plt.show()\n",
        "\n",
        "# Use the function\n",
        "show_images('/content/gdrive/My Drive/Facial_emotion_images/train/happy/')\n",
        "\n",
        "\n",
        "\n"
      ],
      "metadata": {
        "id": "GBLc1cUpByfa",
        "colab": {
          "base_uri": "https://localhost:8080/",
          "height": 1000
        },
        "outputId": "d0b2909d-2df8-4602-a59a-d336558f5a0a"
      },
      "execution_count": null,
      "outputs": [
        {
          "output_type": "display_data",
          "data": {
            "text/plain": [
              "<Figure size 500x500 with 1 Axes>"
            ],
            "image/png": "[encoded data removed]"
          },
          "metadata": {}
        },
        {
          "output_type": "display_data",
          "data": {
            "text/plain": [
              "<Figure size 500x500 with 1 Axes>"
            ],
            "image/png": "[encoded data removed]"
          },
          "metadata": {}
        },
        {
          "output_type": "display_data",
          "data": {
            "text/plain": [
              "<Figure size 500x500 with 1 Axes>"
            ],
            "image/png": "[encoded data removed]"
          },
          "metadata": {}
        },
        {
          "output_type": "display_data",
          "data": {
            "text/plain": [
              "<Figure size 500x500 with 1 Axes>"
            ],
            "image/png": "[encoded data removed]"
          },
          "metadata": {}
        },
        {
          "output_type": "display_data",
          "data": {
            "text/plain": [
              "<Figure size 500x500 with 1 Axes>"
            ],
            "image/png": "[encoded data removed]"
          },
          "metadata": {}
        }
      ]
    },
    {
      "cell_type": "markdown",
      "metadata": {
        "id": "28ZzJwIK6HTH"
      },
      "source": [
        "### **Sad**"
      ]
    },
    {
      "cell_type": "code",
      "execution_count": null,
      "metadata": {
        "id": "4n0oXebe6b0g",
        "colab": {
          "base_uri": "https://localhost:8080/",
          "height": 1000
        },
        "outputId": "ccd8a0a6-59e8-4991-cd5f-ac8b24ce82e8"
      },
      "outputs": [
        {
          "output_type": "display_data",
          "data": {
            "text/plain": [
              "<Figure size 500x500 with 1 Axes>"
            ],
            "image/png": "[encoded data removed]"
          },
          "metadata": {}
        },
        {
          "output_type": "display_data",
          "data": {
            "text/plain": [
              "<Figure size 500x500 with 1 Axes>"
            ],
            "image/png": "[encoded data removed]"
          },
          "metadata": {}
        },
        {
          "output_type": "display_data",
          "data": {
            "text/plain": [
              "<Figure size 500x500 with 1 Axes>"
            ],
            "image/png": "[encoded data removed]"
          },
          "metadata": {}
        },
        {
          "output_type": "display_data",
          "data": {
            "text/plain": [
              "<Figure size 500x500 with 1 Axes>"
            ],
            "image/png": "[encoded data removed]"
          },
          "metadata": {}
        },
        {
          "output_type": "display_data",
          "data": {
            "text/plain": [
              "<Figure size 500x500 with 1 Axes>"
            ],
            "image/png": "[encoded data removed]"
          },
          "metadata": {}
        }
      ],
      "source": [
        "show_images('/content/gdrive/My Drive/Facial_emotion_images/train/sad/')"
      ]
    },
    {
      "cell_type": "markdown",
      "metadata": {
        "id": "5BpviSLK6mLO"
      },
      "source": [
        "**Observations and Insights:_Unlike 'happy' images, 'sad' images are characterized by a downward curve of the lips or no significant curve at all. Both males and females of various age groups are represented in the dataset, and all images are in black and white. The diversity within the class again aids in making the model versatile and generalizable. There's usually a lack of creases around the eyes and no raised cheeks, which separates 'sad' emotions from 'happy' ones. The eyebrows may also be pulled together and upwards, denoting distress._**"
      ]
    },
    {
      "cell_type": "markdown",
      "metadata": {
        "id": "8D3nRj8x7gjK"
      },
      "source": [
        "### **Neutral**"
      ]
    },
    {
      "cell_type": "code",
      "execution_count": null,
      "metadata": {
        "id": "M9bRAog_7qPl",
        "colab": {
          "base_uri": "https://localhost:8080/",
          "height": 1000
        },
        "outputId": "02dfdf8f-87b6-4da1-9cdf-a05c26a97d79"
      },
      "outputs": [
        {
          "output_type": "display_data",
          "data": {
            "text/plain": [
              "<Figure size 500x500 with 1 Axes>"
            ],
            "image/png": "[encoded data removed]"
          },
          "metadata": {}
        },
        {
          "output_type": "display_data",
          "data": {
            "text/plain": [
              "<Figure size 500x500 with 1 Axes>"
            ],
            "image/png": "[encoded data removed]"
          },
          "metadata": {}
        },
        {
          "output_type": "display_data",
          "data": {
            "text/plain": [
              "<Figure size 500x500 with 1 Axes>"
            ],
            "image/png": "[encoded data removed]"
          },
          "metadata": {}
        },
        {
          "output_type": "display_data",
          "data": {
            "text/plain": [
              "<Figure size 500x500 with 1 Axes>"
            ],
            "image/png": "[encoded data removed]"
          },
          "metadata": {}
        },
        {
          "output_type": "display_data",
          "data": {
            "text/plain": [
              "<Figure size 500x500 with 1 Axes>"
            ],
            "image/png": "[encoded data removed]"
          },
          "metadata": {}
        }
      ],
      "source": [
        "show_images('/content/gdrive/My Drive/Facial_emotion_images/train/neutral/')"
      ]
    },
    {
      "cell_type": "markdown",
      "metadata": {
        "id": "AjvfkXFE70Wa"
      },
      "source": [
        "**Observations and Insights:_The 'neutral' images, like the others, are all in black and white, featuring individuals across different age groups and genders. Neutral expressions are unique in the sense that they exhibit a lack of notable emotional cues. In other words, the face appears relatively flat and motionless, without the prominent curves and creases characteristic of 'happy' or 'sad' expressions. The lips are typically in their natural position, neither curved up nor down, and the eyes and eyebrows are also relaxed. There may not be a lot of apparent movement or strain in the facial muscles. This lack of distinctive features makes 'neutral' a challenging class to predict accurately, as it can be easily confused with mild forms of other emotions._**"
      ]
    },
    {
      "cell_type": "markdown",
      "metadata": {
        "id": "avUJfLm08cgt"
      },
      "source": [
        "### **Surprised**"
      ]
    },
    {
      "cell_type": "code",
      "execution_count": null,
      "metadata": {
        "id": "tDrkuxNm8mWE",
        "colab": {
          "base_uri": "https://localhost:8080/",
          "height": 1000
        },
        "outputId": "ec011d2e-5e43-4fdc-c80f-6284977ee24b"
      },
      "outputs": [
        {
          "output_type": "display_data",
          "data": {
            "text/plain": [
              "<Figure size 500x500 with 1 Axes>"
            ],
            "image/png": "[encoded data removed]"
          },
          "metadata": {}
        },
        {
          "output_type": "display_data",
          "data": {
            "text/plain": [
              "<Figure size 500x500 with 1 Axes>"
            ],
            "image/png": "[encoded data removed]"
          },
          "metadata": {}
        },
        {
          "output_type": "display_data",
          "data": {
            "text/plain": [
              "<Figure size 500x500 with 1 Axes>"
            ],
            "image/png": "[encoded data removed]"
          },
          "metadata": {}
        },
        {
          "output_type": "display_data",
          "data": {
            "text/plain": [
              "<Figure size 500x500 with 1 Axes>"
            ],
            "image/png": "[encoded data removed]"
          },
          "metadata": {}
        },
        {
          "output_type": "display_data",
          "data": {
            "text/plain": [
              "<Figure size 500x500 with 1 Axes>"
            ],
            "image/png": "[encoded data removed]"
          },
          "metadata": {}
        }
      ],
      "source": [
        "show_images('/content/gdrive/My Drive/Facial_emotion_images/train/surprise/')"
      ]
    },
    {
      "cell_type": "markdown",
      "metadata": {
        "id": "RTnBsUNH_djf"
      },
      "source": [
        "**Observations and Insights:_The 'surprised' images also consist of varied age groups and both genders, all in black and white. Surprise is typically characterized by wide-open eyes, raised eyebrows, and often an open mouth. The facial features tend to be exaggerated compared to other expressions, which can help in differentiating this class from others. Unlike 'happy' expressions where the smile lines are visible, 'surprised' expressions might not always exhibit a smile._**"
      ]
    },
    {
      "cell_type": "markdown",
      "metadata": {
        "id": "ZZMfyOH4-YSp"
      },
      "source": [
        "## **Checking Distribution of Classes**"
      ]
    },
    {
      "cell_type": "code",
      "execution_count": null,
      "metadata": {
        "id": "m7rCOsTl-HbZ",
        "colab": {
          "base_uri": "https://localhost:8080/"
        },
        "outputId": "71ef745f-3fea-4527-e805-8100e931b5e1"
      },
      "outputs": [
        {
          "output_type": "stream",
          "name": "stdout",
          "text": [
            "Training dataset:\n",
            "Number of happy images: 3976\n",
            "Number of sad images: 3982\n",
            "Number of surprise images: 3173\n",
            "Number of neutral images: 3978\n",
            "\n",
            "Test dataset:\n",
            "Number of happy images: 32\n",
            "Number of sad images: 32\n",
            "Number of surprise images: 32\n",
            "Number of neutral images: 32\n",
            "\n",
            "Validation dataset:\n",
            "Number of happy images: 1825\n",
            "Number of sad images: 1139\n",
            "Number of surprise images: 797\n",
            "Number of neutral images: 1216\n"
          ]
        }
      ],
      "source": [
        "\n",
        "\n",
        "# Directories containing the images\n",
        "train_dir = '/content/gdrive/My Drive/Facial_emotion_images/train'\n",
        "test_dir = '/content/gdrive/My Drive/Facial_emotion_images/test'\n",
        "validation_dir = '/content/gdrive/My Drive/Facial_emotion_images/validation'\n",
        "\n",
        "# List of emotion classes\n",
        "classes = ['happy', 'sad', 'surprise', 'neutral']\n",
        "\n",
        "# Function to count number of images in each directory\n",
        "def count_images(base_dir, classes):\n",
        "    for emotion in classes:\n",
        "        dir = os.path.join(base_dir, emotion)\n",
        "        num_images = len(os.listdir(dir))\n",
        "        print(f'Number of {emotion} images: {num_images}')\n",
        "\n",
        "# Count number of images in each class in training, test and validation datasets\n",
        "print('Training dataset:')\n",
        "count_images(train_dir, classes)\n",
        "\n",
        "print('\\nTest dataset:')\n",
        "count_images(test_dir, classes)\n",
        "\n",
        "print('\\nValidation dataset:')\n",
        "count_images(validation_dir, classes)\n"
      ]
    },
    {
      "cell_type": "markdown",
      "metadata": {
        "id": "reZRpnmv8qPL"
      },
      "source": [
        "**Observations and Insights:__The training dataset appears to have a balanced distribution between 'happy' and 'sad' classes. However, 'surprise' and 'neutral' classes have fewer images. This could potentially lead to bias in the model towards the 'happy' and 'sad' emotions as there are more examples for the model to learn from.\n",
        "\n",
        "The test dataset is perfectly balanced, with an equal number of images in each emotion category. This is a good setup as it allows the model's performance to be tested evenly across all categories.\n",
        "\n",
        "In the validation dataset, the 'happy' class has the highest number of images, while the 'surprise' class has the least. As with the training data, this imbalance could potentially lead to a bias in model performance.**\n",
        "\n",
        "Think About It:\n",
        "\n",
        "Are the classes equally distributed? No, there's an imbalance in the distribution of classes in the training and validation datasets.\n",
        "If not, do you think the imbalance is too high? Yes, especially in the validation set, there's a notable imbalance between 'happy' and 'surprise' classes. Also, in the training set, 'surprise' and 'neutral' classes are underrepresented.\n",
        "Will it be a problem as we progress? It might lead to a bias towards 'happy' and 'sad' classes in the training set and 'happy' class in the validation set as they are overrepresented.\n",
        "Are there any Exploratory Data Analysis tasks that we can do here? Yes, we can investigate further by looking at the distribution of classes within gender, age groups etc. It would be beneficial to understand if there are specific biases in the dataset.\n",
        "Would they provide any meaningful insights? Yes, further exploration of the dataset can provide more insights into potential biases and correlations, which could be helpful in improving the model's performance.\n",
        "Next, it would be beneficial to address this imbalance. Techniques such as data augmentation (for underrepresented classes), under-sampling (for overrepresented classes), or synthetic data generation (like SMOTE) could be useful in this scenario. Please note, these techniques are most applicable for the training data. For the validation dataset, it is usually not recommended to manipulate the distribution as it should ideally reflect the real-world data distribution.\n",
        "\n",
        "\n",
        "\n",
        "\n",
        "\n"
      ]
    },
    {
      "cell_type": "markdown",
      "metadata": {
        "id": "mfJnIxXC80uZ"
      },
      "source": [
        "**Think About It:** \n",
        "* Are the classes equally distributed? If not, do you think the imbalance is too high? Will it be a problem as we progress?\n",
        "* Are there any Exploratory Data Analysis tasks that we can do here? Would they provide any meaningful insights?"
      ]
    },
    {
      "cell_type": "markdown",
      "metadata": {
        "id": "J7NKTPgdEsgt"
      },
      "source": [
        "## **Creating our Data Loaders**\n",
        "\n",
        "In this section, we are creating data loaders that we will use as inputs to our Neural Network.\n",
        "\n",
        "**You have two options for the color_mode. You can set it to color_mode = 'rgb' or color_mode = 'grayscale'. You will need to try out both and see for yourself which one gives better performance.**"
      ]
    },
    {
      "cell_type": "code",
      "execution_count": null,
      "metadata": {
        "id": "d97fee2d",
        "colab": {
          "base_uri": "https://localhost:8080/"
        },
        "outputId": "9beffd0f-2804-4167-b04b-1325a301397a"
      },
      "outputs": [
        {
          "output_type": "stream",
          "name": "stdout",
          "text": [
            "Found 15109 images belonging to 4 classes.\n",
            "Found 4977 images belonging to 4 classes.\n"
          ]
        }
      ],
      "source": [
        "# All images will be rescaled by 1./255\n",
        "datagen = ImageDataGenerator(rescale=1./255)\n",
        "\n",
        "# Flow training images in batches of 32 using train_datagen generator\n",
        "train_generator = datagen.flow_from_directory(\n",
        "        '/content/gdrive/My Drive/Facial_emotion_images/train/',  # This is the source directory for training images\n",
        "        target_size=(48, 48),  # All images will be resized to 150x150\n",
        "        batch_size=32,\n",
        "        class_mode='categorical',\n",
        "        color_mode='rgb')\n",
        "\n",
        "validation_generator = datagen.flow_from_directory(\n",
        "        '/content/gdrive/My Drive/Facial_emotion_images/validation/',  # This is the source directory for validation images\n",
        "        target_size=(48, 48),  # All images will be resized to 150x150\n",
        "        batch_size=32,\n",
        "        class_mode='categorical',\n",
        "        color_mode='rgb')"
      ]
    },
    {
      "cell_type": "markdown",
      "metadata": {
        "id": "_qGpQC3q1avy"
      },
      "source": [
        "## **Model Building**"
      ]
    },
    {
      "cell_type": "markdown",
      "metadata": {
        "id": "OSl8GqRdAcGq"
      },
      "source": [
        "**Think About It:**\n",
        "* Are Convolutional Neural Networks the right approach? Should we have gone with Artificial Neural Networks instead? \n",
        "\n",
        "\n",
        "In the context of image recognition tasks, such as facial emotion detection, Convolutional Neural Networks (CNNs) are generally a more appropriate choice than Artificial Neural Networks (ANNs). Here are a few reasons why:\n",
        "\n",
        "Handling of Spatial Data: CNNs are designed to handle spatial data, where the arrangement and order of the data is important. For images, the relative positions of pixels are crucial for understanding the content. CNNs, with their convolutional layers, are designed to interpret such spatial relationships. On the other hand, ANNs treat input data as a flat vector, which can lead to loss of spatial information.\n",
        "\n",
        "Feature Learning: CNNs are designed to automatically and adaptively learn spatial hierarchies of features from the provided images. This means that the model can learn to identify important features from the images, like edges, shapes, or more complex structures depending on the depth of the network. ANNs generally lack this property.\n",
        "\n",
        "Parameter Efficiency: CNNs have fewer parameters to learn than ANNs, thanks to their use of convolutional layers. This is because CNNs share weights across space, which is particularly suited to images that have the same statistical properties across the image. This makes them less computationally intensive and less prone to overfitting.\n",
        "\n",
        "Translation Invariance: CNNs can identify an object or feature regardless of its location in the image due to the convolution operation and pooling layers. This property is essential for image recognition tasks, and it's something ANNs lack.\n",
        "\n",
        "Better Performance on Image Data: Empirically, CNNs have shown to have superior performance on image-related tasks. This is likely due to their ability to capture local patterns and their robustness to distortions and transformations.\n",
        "\n",
        "In summary, for tasks such as facial emotion detection, where the goal is to identify complex patterns in image data, CNNs are generally a more appropriate choice than ANNs.\n",
        "\n",
        "* What are the advantages of CNNs over ANNs and are they applicable here?\n",
        "The advantages of Convolutional Neural Networks (CNNs) over Artificial Neural Networks (ANNs) are especially significant in image-related tasks, which makes them highly applicable in this context of facial emotion detection. Here are some of the advantages:\n",
        "\n",
        "Spatial feature learning: CNNs are able to learn spatial hierarchies of features, meaning they can understand the content of an image at different scales. For instance, at lower layers, CNNs can identify edges, while at higher layers, they can identify complex structures like faces or objects. ANNs lack this kind of spatial feature detection.\n",
        "\n",
        "Parameter efficiency: In CNNs, weights are shared across space (spatial weight sharing), which reduces the number of parameters to be learned. This results in less computational cost and lower risk of overfitting. In contrast, ANNs have fully connected layers where each neuron is connected to every neuron in the next layer, which leads to a high number of parameters and makes the model more prone to overfitting.\n",
        "\n",
        "Translation invariance: CNNs have translation invariance, meaning they can detect a feature regardless of where in the image that feature is located. This property is very useful for image recognition tasks since the location of a feature in an image should not affect whether the feature is recognized. ANNs lack this property.\n",
        "\n",
        "Robustness to distortions and transformations: CNNs are more robust to distortions and transformations in images, thanks to pooling layers and data augmentation techniques that can be applied during training. This makes CNNs more adaptable to variations in real-world data.\n",
        "\n",
        "Use of pre-trained models: CNNs have an advantage in terms of the availability of pre-trained models, such as VGG16, ResNet, etc., that have been trained on large datasets like ImageNet. These pre-trained models can be fine-tuned and used for transfer learning on new tasks with relatively small datasets. This approach is less common with ANNs.\n",
        "\n",
        "Better performance on image data: Generally, CNNs outperform ANNs on image-related tasks. This is because CNNs are designed to deal with the 2D structure of images and are able to capture local patterns, like the shape of eyes or nose in the context of facial emotion detection, which would be difficult for ANNs to learn.\n",
        "\n",
        "Given these advantages, using CNNs for facial emotion detection is a reasonable choice."
      ]
    },
    {
      "cell_type": "markdown",
      "metadata": {
        "id": "0feec0a7"
      },
      "source": [
        "### **Creating the Base Neural Network**"
      ]
    },
    {
      "cell_type": "code",
      "execution_count": null,
      "metadata": {
        "id": "151077af"
      },
      "outputs": [],
      "source": [
        "\n",
        "\n",
        "# Instantiate the model\n",
        "model = Sequential()\n",
        "\n",
        "# Add a 2D convolutional layer with 32 filters, a 3x3 kernel, 'relu' activation function, and the input shape\n",
        "model.add(Conv2D(32, (3, 3), activation='relu', input_shape=(48, 48, 1)))  # 1 for grayscale, 3 for rgb\n",
        "\n",
        "# Add a max pooling layer to downsample the feature maps\n",
        "model.add(MaxPooling2D(pool_size=(2, 2)))\n",
        "\n",
        "# Flatten the tensor output from the previous layer\n",
        "model.add(Flatten())\n",
        "\n",
        "# Add a dense layer with 128 units and 'relu' activation function\n",
        "model.add(Dense(128, activation='relu'))\n",
        "\n",
        "# Add a dropout layer for regularization (optional)\n",
        "model.add(Dropout(0.5))\n",
        "\n",
        "# Add an output layer with 4 units (for the 4 emotion classes) and 'softmax' activation function\n",
        "model.add(Dense(4, activation='softmax'))\n",
        "\n",
        "\n",
        "\n",
        "\n"
      ]
    },
    {
      "cell_type": "markdown",
      "metadata": {
        "id": "vgOwCHZxqAlG"
      },
      "source": [
        "### **Compiling and Training the Model**"
      ]
    },
    {
      "cell_type": "code",
      "execution_count": null,
      "metadata": {
        "id": "87b29701",
        "colab": {
          "base_uri": "https://localhost:8080/"
        },
        "outputId": "7e4fe310-2089-48af-df4c-ad3fdb144559"
      },
      "outputs": [
        {
          "output_type": "stream",
          "name": "stdout",
          "text": [
            "Model: \"sequential_1\"\n",
            "_________________________________________________________________\n",
            " Layer (type)                Output Shape              Param #   \n",
            "=================================================================\n",
            " conv2d_1 (Conv2D)           (None, 46, 46, 32)        320       \n",
            "                                                                 \n",
            " max_pooling2d_1 (MaxPooling  (None, 23, 23, 32)       0         \n",
            " 2D)                                                             \n",
            "                                                                 \n",
            " flatten_1 (Flatten)         (None, 16928)             0         \n",
            "                                                                 \n",
            " dense_2 (Dense)             (None, 128)               2166912   \n",
            "                                                                 \n",
            " dropout_1 (Dropout)         (None, 128)               0         \n",
            "                                                                 \n",
            " dense_3 (Dense)             (None, 4)                 516       \n",
            "                                                                 \n",
            "=================================================================\n",
            "Total params: 2,167,748\n",
            "Trainable params: 2,167,748\n",
            "Non-trainable params: 0\n",
            "_________________________________________________________________\n"
          ]
        }
      ],
      "source": [
        "# Compile the model with an appropriate optimizer and loss function\n",
        "model.compile(loss='categorical_crossentropy', optimizer='adam', metrics=['accuracy'])\n",
        "# Print a summary of the model architecture\n",
        "model.summary()"
      ]
    },
    {
      "cell_type": "markdown",
      "metadata": {
        "id": "CR2yf3zH7uje"
      },
      "source": [
        "### **Evaluating the Model on the Test Set**"
      ]
    },
    {
      "cell_type": "code",
      "execution_count": null,
      "metadata": {
        "id": "gffvQXr-70Hm",
        "colab": {
          "base_uri": "https://localhost:8080/"
        },
        "outputId": "376f04d1-56dc-48d4-a3fd-3a350dac5d77"
      },
      "outputs": [
        {
          "output_type": "stream",
          "name": "stdout",
          "text": [
            "Found 128 images belonging to 4 classes.\n"
          ]
        }
      ],
      "source": [
        "# Load your test data\n",
        "test_datagen = ImageDataGenerator(rescale=1./255)\n",
        "\n",
        "test_generator = test_datagen.flow_from_directory(\n",
        "        test_dir,\n",
        "        target_size=(48, 48),\n",
        "        batch_size=64,\n",
        "        class_mode='categorical',\n",
        "        color_mode='rgb' # or 'grayscale' depending on what you trained your model on\n",
        "    )\n",
        "\n",
        "\n",
        "\n",
        "\n",
        "\n",
        "\n"
      ]
    },
    {
      "cell_type": "code",
      "source": [
        "import tensorflow as tf\n",
        "tf.test.gpu_device_name()\n"
      ],
      "metadata": {
        "colab": {
          "base_uri": "https://localhost:8080/",
          "height": 35
        },
        "id": "0J_6UccuXglz",
        "outputId": "6dfe7b6d-701a-4349-e755-8b09e548e12a"
      },
      "execution_count": null,
      "outputs": [
        {
          "output_type": "execute_result",
          "data": {
            "text/plain": [
              "'/device:GPU:0'"
            ],
            "application/vnd.google.colaboratory.intrinsic+json": {
              "type": "string"
            }
          },
          "metadata": {},
          "execution_count": 16
        }
      ]
    },
    {
      "cell_type": "code",
      "source": [
        "import os\n",
        "os.environ['CUDA_VISIBLE_DEVICES'] = '0'  # Index of the desired GPU device\n"
      ],
      "metadata": {
        "id": "b7wgv8h3YP4v"
      },
      "execution_count": null,
      "outputs": []
    },
    {
      "cell_type": "code",
      "source": [
        "physical_devices = tf.config.experimental.list_physical_devices('GPU')\n",
        "if len(physical_devices) > 0:\n",
        "   tf.config.experimental.set_memory_growth(physical_devices[0], True)"
      ],
      "metadata": {
        "id": "C3clxHW9ZYOY"
      },
      "execution_count": null,
      "outputs": []
    },
    {
      "cell_type": "code",
      "source": [
        "from tensorflow.python.client import device_lib\n",
        "device_lib.list_local_devices()"
      ],
      "metadata": {
        "colab": {
          "base_uri": "https://localhost:8080/"
        },
        "id": "gmzM_SImgWwK",
        "outputId": "4d237a64-da03-4fd6-9b8c-dd190a376270"
      },
      "execution_count": null,
      "outputs": [
        {
          "output_type": "execute_result",
          "data": {
            "text/plain": [
              "[name: \"/device:CPU:0\"\n",
              " device_type: \"CPU\"\n",
              " memory_limit: 268435456\n",
              " locality {\n",
              " }\n",
              " incarnation: 3573710161330683256\n",
              " xla_global_id: -1,\n",
              " name: \"/device:GPU:0\"\n",
              " device_type: \"GPU\"\n",
              " memory_limit: 14328594432\n",
              " locality {\n",
              "   bus_id: 1\n",
              "   links {\n",
              "   }\n",
              " }\n",
              " incarnation: 3834571508484028978\n",
              " physical_device_desc: \"device: 0, name: Tesla T4, pci bus id: 0000:00:04.0, compute capability: 7.5\"\n",
              " xla_global_id: 416903419]"
            ]
          },
          "metadata": {},
          "execution_count": 34
        }
      ]
    },
    {
      "cell_type": "code",
      "source": [
        "!cat /proc/meminfo"
      ],
      "metadata": {
        "colab": {
          "base_uri": "https://localhost:8080/"
        },
        "id": "pV_cz1vCgo6w",
        "outputId": "8eb7c119-aa3c-4202-943a-2b593e16bdf8"
      },
      "execution_count": null,
      "outputs": [
        {
          "output_type": "stream",
          "name": "stdout",
          "text": [
            "MemTotal:       13294264 kB\n",
            "MemFree:         2051496 kB\n",
            "MemAvailable:    9429500 kB\n",
            "Buffers:          261248 kB\n",
            "Cached:          7070324 kB\n",
            "SwapCached:            0 kB\n",
            "Active:          2269944 kB\n",
            "Inactive:        8224304 kB\n",
            "Active(anon):       1936 kB\n",
            "Inactive(anon):  3177924 kB\n",
            "Active(file):    2268008 kB\n",
            "Inactive(file):  5046380 kB\n",
            "Unevictable:           0 kB\n",
            "Mlocked:               0 kB\n",
            "SwapTotal:             0 kB\n",
            "SwapFree:              0 kB\n",
            "Dirty:              1692 kB\n",
            "Writeback:             0 kB\n",
            "AnonPages:       3140560 kB\n",
            "Mapped:          1203076 kB\n",
            "Shmem:             17164 kB\n",
            "KReclaimable:     389036 kB\n",
            "Slab:             463760 kB\n",
            "SReclaimable:     389036 kB\n",
            "SUnreclaim:        74724 kB\n",
            "KernelStack:        6544 kB\n",
            "PageTables:        26616 kB\n",
            "NFS_Unstable:          0 kB\n",
            "Bounce:                0 kB\n",
            "WritebackTmp:          0 kB\n",
            "CommitLimit:     6647132 kB\n",
            "Committed_AS:    4865808 kB\n",
            "VmallocTotal:   34359738367 kB\n",
            "VmallocUsed:       79208 kB\n",
            "VmallocChunk:          0 kB\n",
            "Percpu:             1320 kB\n",
            "HardwareCorrupted:     0 kB\n",
            "AnonHugePages:      6144 kB\n",
            "ShmemHugePages:        0 kB\n",
            "ShmemPmdMapped:        0 kB\n",
            "FileHugePages:         0 kB\n",
            "FilePmdMapped:         0 kB\n",
            "CmaTotal:              0 kB\n",
            "CmaFree:               0 kB\n",
            "HugePages_Total:       0\n",
            "HugePages_Free:        0\n",
            "HugePages_Rsvd:        0\n",
            "HugePages_Surp:        0\n",
            "Hugepagesize:       2048 kB\n",
            "Hugetlb:               0 kB\n",
            "DirectMap4k:      340792 kB\n",
            "DirectMap2M:    10141696 kB\n",
            "DirectMap1G:     5242880 kB\n"
          ]
        }
      ]
    },
    {
      "cell_type": "code",
      "source": [
        "# Load your test data\n",
        "test_datagen = ImageDataGenerator(rescale=1./255)\n",
        "\n",
        "test_generator = test_datagen.flow_from_directory(\n",
        "        test_dir,\n",
        "        target_size=(48, 48),\n",
        "        batch_size=64,\n",
        "        class_mode='categorical',\n",
        "        color_mode='rgb' # or 'grayscale' depending on what you trained your model on\n",
        "    )\n",
        "\n",
        "# Evaluate the model on the test data\n",
        "loss, accuracy = model.evaluate(test_generator)\n",
        "\n",
        "print(f'Test loss: {loss:.3f}')\n",
        "print(f'Test accuracy: {accuracy:.3f}')\n"
      ],
      "metadata": {
        "colab": {
          "base_uri": "https://localhost:8080/",
          "height": 1000
        },
        "id": "xF6tfbeQYpyh",
        "outputId": "9e9632b9-b596-4323-d66c-307d96c01634"
      },
      "execution_count": null,
      "outputs": [
        {
          "output_type": "stream",
          "name": "stdout",
          "text": [
            "Found 128 images belonging to 4 classes.\n"
          ]
        },
        {
          "output_type": "error",
          "ename": "InternalError",
          "evalue": "ignored",
          "traceback": [
            "\u001b[0;31m---------------------------------------------------------------------------\u001b[0m",
            "\u001b[0;31mInternalError\u001b[0m                             Traceback (most recent call last)",
            "\u001b[0;32m<ipython-input-32-7a970b606bc7>\u001b[0m in \u001b[0;36m<cell line: 13>\u001b[0;34m()\u001b[0m\n\u001b[1;32m     11\u001b[0m \u001b[0;34m\u001b[0m\u001b[0m\n\u001b[1;32m     12\u001b[0m \u001b[0;31m# Evaluate the model on the test data\u001b[0m\u001b[0;34m\u001b[0m\u001b[0;34m\u001b[0m\u001b[0m\n\u001b[0;32m---> 13\u001b[0;31m \u001b[0mloss\u001b[0m\u001b[0;34m,\u001b[0m \u001b[0maccuracy\u001b[0m \u001b[0;34m=\u001b[0m \u001b[0mmodel\u001b[0m\u001b[0;34m.\u001b[0m\u001b[0mevaluate\u001b[0m\u001b[0;34m(\u001b[0m\u001b[0mtest_generator\u001b[0m\u001b[0;34m)\u001b[0m\u001b[0;34m\u001b[0m\u001b[0;34m\u001b[0m\u001b[0m\n\u001b[0m\u001b[1;32m     14\u001b[0m \u001b[0;34m\u001b[0m\u001b[0m\n\u001b[1;32m     15\u001b[0m \u001b[0mprint\u001b[0m\u001b[0;34m(\u001b[0m\u001b[0;34mf'Test loss: {loss:.3f}'\u001b[0m\u001b[0;34m)\u001b[0m\u001b[0;34m\u001b[0m\u001b[0;34m\u001b[0m\u001b[0m\n",
            "\u001b[0;32m/usr/local/lib/python3.10/dist-packages/keras/utils/traceback_utils.py\u001b[0m in \u001b[0;36merror_handler\u001b[0;34m(*args, **kwargs)\u001b[0m\n\u001b[1;32m     68\u001b[0m             \u001b[0;31m# To get the full stack trace, call:\u001b[0m\u001b[0;34m\u001b[0m\u001b[0;34m\u001b[0m\u001b[0m\n\u001b[1;32m     69\u001b[0m             \u001b[0;31m# `tf.debugging.disable_traceback_filtering()`\u001b[0m\u001b[0;34m\u001b[0m\u001b[0;34m\u001b[0m\u001b[0m\n\u001b[0;32m---> 70\u001b[0;31m             \u001b[0;32mraise\u001b[0m \u001b[0me\u001b[0m\u001b[0;34m.\u001b[0m\u001b[0mwith_traceback\u001b[0m\u001b[0;34m(\u001b[0m\u001b[0mfiltered_tb\u001b[0m\u001b[0;34m)\u001b[0m \u001b[0;32mfrom\u001b[0m \u001b[0;32mNone\u001b[0m\u001b[0;34m\u001b[0m\u001b[0;34m\u001b[0m\u001b[0m\n\u001b[0m\u001b[1;32m     71\u001b[0m         \u001b[0;32mfinally\u001b[0m\u001b[0;34m:\u001b[0m\u001b[0;34m\u001b[0m\u001b[0;34m\u001b[0m\u001b[0m\n\u001b[1;32m     72\u001b[0m             \u001b[0;32mdel\u001b[0m \u001b[0mfiltered_tb\u001b[0m\u001b[0;34m\u001b[0m\u001b[0;34m\u001b[0m\u001b[0m\n",
            "\u001b[0;32m/usr/local/lib/python3.10/dist-packages/tensorflow/python/eager/execute.py\u001b[0m in \u001b[0;36mquick_execute\u001b[0;34m(op_name, num_outputs, inputs, attrs, ctx, name)\u001b[0m\n\u001b[1;32m     50\u001b[0m   \u001b[0;32mtry\u001b[0m\u001b[0;34m:\u001b[0m\u001b[0;34m\u001b[0m\u001b[0;34m\u001b[0m\u001b[0m\n\u001b[1;32m     51\u001b[0m     \u001b[0mctx\u001b[0m\u001b[0;34m.\u001b[0m\u001b[0mensure_initialized\u001b[0m\u001b[0;34m(\u001b[0m\u001b[0;34m)\u001b[0m\u001b[0;34m\u001b[0m\u001b[0;34m\u001b[0m\u001b[0m\n\u001b[0;32m---> 52\u001b[0;31m     tensors = pywrap_tfe.TFE_Py_Execute(ctx._handle, device_name, op_name,\n\u001b[0m\u001b[1;32m     53\u001b[0m                                         inputs, attrs, num_outputs)\n\u001b[1;32m     54\u001b[0m   \u001b[0;32mexcept\u001b[0m \u001b[0mcore\u001b[0m\u001b[0;34m.\u001b[0m\u001b[0m_NotOkStatusException\u001b[0m \u001b[0;32mas\u001b[0m \u001b[0me\u001b[0m\u001b[0;34m:\u001b[0m\u001b[0;34m\u001b[0m\u001b[0;34m\u001b[0m\u001b[0m\n",
            "\u001b[0;31mInternalError\u001b[0m: Graph execution error:\n\nDetected at node 'sequential_1/conv2d_1/Relu' defined at (most recent call last):\n    File \"/usr/lib/python3.10/runpy.py\", line 196, in _run_module_as_main\n      return _run_code(code, main_globals, None,\n    File \"/usr/lib/python3.10/runpy.py\", line 86, in _run_code\n      exec(code, run_globals)\n    File \"/usr/local/lib/python3.10/dist-packages/ipykernel_launcher.py\", line 16, in <module>\n      app.launch_new_instance()\n    File \"/usr/local/lib/python3.10/dist-packages/traitlets/config/application.py\", line 992, in launch_instance\n      app.start()\n    File \"/usr/local/lib/python3.10/dist-packages/ipykernel/kernelapp.py\", line 619, in start\n      self.io_loop.start()\n    File \"/usr/local/lib/python3.10/dist-packages/tornado/platform/asyncio.py\", line 195, in start\n      self.asyncio_loop.run_forever()\n    File \"/usr/lib/python3.10/asyncio/base_events.py\", line 603, in run_forever\n      self._run_once()\n    File \"/usr/lib/python3.10/asyncio/base_events.py\", line 1909, in _run_once\n      handle._run()\n    File \"/usr/lib/python3.10/asyncio/events.py\", line 80, in _run\n      self._context.run(self._callback, *self._args)\n    File \"/usr/local/lib/python3.10/dist-packages/tornado/ioloop.py\", line 685, in <lambda>\n      lambda f: self._run_callback(functools.partial(callback, future))\n    File \"/usr/local/lib/python3.10/dist-packages/tornado/ioloop.py\", line 738, in _run_callback\n      ret = callback()\n    File \"/usr/local/lib/python3.10/dist-packages/tornado/gen.py\", line 825, in inner\n      self.ctx_run(self.run)\n    File \"/usr/local/lib/python3.10/dist-packages/tornado/gen.py\", line 786, in run\n      yielded = self.gen.send(value)\n    File \"/usr/local/lib/python3.10/dist-packages/ipykernel/kernelbase.py\", line 361, in process_one\n      yield gen.maybe_future(dispatch(*args))\n    File \"/usr/local/lib/python3.10/dist-packages/tornado/gen.py\", line 234, in wrapper\n      yielded = ctx_run(next, result)\n    File \"/usr/local/lib/python3.10/dist-packages/ipykernel/kernelbase.py\", line 261, in dispatch_shell\n      yield gen.maybe_future(handler(stream, idents, msg))\n    File \"/usr/local/lib/python3.10/dist-packages/tornado/gen.py\", line 234, in wrapper\n      yielded = ctx_run(next, result)\n    File \"/usr/local/lib/python3.10/dist-packages/ipykernel/kernelbase.py\", line 539, in execute_request\n      self.do_execute(\n    File \"/usr/local/lib/python3.10/dist-packages/tornado/gen.py\", line 234, in wrapper\n      yielded = ctx_run(next, result)\n    File \"/usr/local/lib/python3.10/dist-packages/ipykernel/ipkernel.py\", line 302, in do_execute\n      res = shell.run_cell(code, store_history=store_history, silent=silent)\n    File \"/usr/local/lib/python3.10/dist-packages/ipykernel/zmqshell.py\", line 539, in run_cell\n      return super(ZMQInteractiveShell, self).run_cell(*args, **kwargs)\n    File \"/usr/local/lib/python3.10/dist-packages/IPython/core/interactiveshell.py\", line 2975, in run_cell\n      result = self._run_cell(\n    File \"/usr/local/lib/python3.10/dist-packages/IPython/core/interactiveshell.py\", line 3030, in _run_cell\n      return runner(coro)\n    File \"/usr/local/lib/python3.10/dist-packages/IPython/core/async_helpers.py\", line 78, in _pseudo_sync_runner\n      coro.send(None)\n    File \"/usr/local/lib/python3.10/dist-packages/IPython/core/interactiveshell.py\", line 3257, in run_cell_async\n      has_raised = await self.run_ast_nodes(code_ast.body, cell_name,\n    File \"/usr/local/lib/python3.10/dist-packages/IPython/core/interactiveshell.py\", line 3473, in run_ast_nodes\n      if (await self.run_code(code, result,  async_=asy)):\n    File \"/usr/local/lib/python3.10/dist-packages/IPython/core/interactiveshell.py\", line 3553, in run_code\n      exec(code_obj, self.user_global_ns, self.user_ns)\n    File \"<ipython-input-32-7a970b606bc7>\", line 13, in <cell line: 13>\n      loss, accuracy = model.evaluate(test_generator)\n    File \"/usr/local/lib/python3.10/dist-packages/keras/utils/traceback_utils.py\", line 65, in error_handler\n      return fn(*args, **kwargs)\n    File \"/usr/local/lib/python3.10/dist-packages/keras/engine/training.py\", line 2072, in evaluate\n      tmp_logs = self.test_function(iterator)\n    File \"/usr/local/lib/python3.10/dist-packages/keras/engine/training.py\", line 1852, in test_function\n      return step_function(self, iterator)\n    File \"/usr/local/lib/python3.10/dist-packages/keras/engine/training.py\", line 1836, in step_function\n      outputs = model.distribute_strategy.run(run_step, args=(data,))\n    File \"/usr/local/lib/python3.10/dist-packages/keras/engine/training.py\", line 1824, in run_step\n      outputs = model.test_step(data)\n    File \"/usr/local/lib/python3.10/dist-packages/keras/engine/training.py\", line 1788, in test_step\n      y_pred = self(x, training=False)\n    File \"/usr/local/lib/python3.10/dist-packages/keras/utils/traceback_utils.py\", line 65, in error_handler\n      return fn(*args, **kwargs)\n    File \"/usr/local/lib/python3.10/dist-packages/keras/engine/training.py\", line 558, in __call__\n      return super().__call__(*args, **kwargs)\n    File \"/usr/local/lib/python3.10/dist-packages/keras/utils/traceback_utils.py\", line 65, in error_handler\n      return fn(*args, **kwargs)\n    File \"/usr/local/lib/python3.10/dist-packages/keras/engine/base_layer.py\", line 1145, in __call__\n      outputs = call_fn(inputs, *args, **kwargs)\n    File \"/usr/local/lib/python3.10/dist-packages/keras/utils/traceback_utils.py\", line 96, in error_handler\n      return fn(*args, **kwargs)\n    File \"/usr/local/lib/python3.10/dist-packages/keras/engine/sequential.py\", line 412, in call\n      return super().call(inputs, training=training, mask=mask)\n    File \"/usr/local/lib/python3.10/dist-packages/keras/engine/functional.py\", line 512, in call\n      return self._run_internal_graph(inputs, training=training, mask=mask)\n    File \"/usr/local/lib/python3.10/dist-packages/keras/engine/functional.py\", line 669, in _run_internal_graph\n      outputs = node.layer(*args, **kwargs)\n    File \"/usr/local/lib/python3.10/dist-packages/keras/utils/traceback_utils.py\", line 65, in error_handler\n      return fn(*args, **kwargs)\n    File \"/usr/local/lib/python3.10/dist-packages/keras/engine/base_layer.py\", line 1145, in __call__\n      outputs = call_fn(inputs, *args, **kwargs)\n    File \"/usr/local/lib/python3.10/dist-packages/keras/utils/traceback_utils.py\", line 96, in error_handler\n      return fn(*args, **kwargs)\n    File \"/usr/local/lib/python3.10/dist-packages/keras/layers/convolutional/base_conv.py\", line 321, in call\n      return self.activation(outputs)\n    File \"/usr/local/lib/python3.10/dist-packages/keras/activations.py\", line 317, in relu\n      return backend.relu(\n    File \"/usr/local/lib/python3.10/dist-packages/keras/backend.py\", line 5396, in relu\n      x = tf.nn.relu(x)\nNode: 'sequential_1/conv2d_1/Relu'\nCudnn graph failed to build: UNKNOWN: CUDNN_STATUS_BAD_PARAM\nin tensorflow/compiler/xla/stream_executor/cuda/cuda_dnn.cc(3760): 'conv_op' CUDNN_BACKEND_OPERATION: cudnnFinalize Failed\n\t [[{{node sequential_1/conv2d_1/Relu}}]] [Op:__inference_test_function_1403]"
          ]
        }
      ]
    },
    {
      "cell_type": "markdown",
      "metadata": {
        "id": "SoqluqR-RMbk"
      },
      "source": [
        "**Observations and Insights:__**"
      ]
    },
    {
      "cell_type": "markdown",
      "metadata": {
        "id": "12efb6c8"
      },
      "source": [
        "### **Creating the second Convolutional Neural Network**"
      ]
    },
    {
      "cell_type": "markdown",
      "metadata": {
        "id": "ypwtou8Zp5EH"
      },
      "source": [
        "- Try out a slightly larger architecture"
      ]
    },
    {
      "cell_type": "code",
      "execution_count": null,
      "metadata": {
        "id": "7887b475"
      },
      "outputs": [],
      "source": []
    },
    {
      "cell_type": "markdown",
      "metadata": {
        "id": "T2d7wYiTk5uW"
      },
      "source": [
        "### **Compiling and Training the Model**"
      ]
    },
    {
      "cell_type": "code",
      "execution_count": null,
      "metadata": {
        "id": "5f79add6"
      },
      "outputs": [],
      "source": []
    },
    {
      "cell_type": "markdown",
      "metadata": {
        "id": "VeiN9vSy744e"
      },
      "source": [
        "### **Evaluating the Model on the Test Set**"
      ]
    },
    {
      "cell_type": "code",
      "execution_count": null,
      "metadata": {
        "id": "YBNeB-Em7xBy"
      },
      "outputs": [],
      "source": []
    },
    {
      "cell_type": "markdown",
      "metadata": {
        "id": "MstKA9Op8XOA"
      },
      "source": [
        "**Observations and Insights:__**"
      ]
    },
    {
      "cell_type": "markdown",
      "metadata": {
        "id": "S1LQ64iTsSH0"
      },
      "source": [
        "## **Think About It:**\n",
        "\n",
        "* Did the models have a satisfactory performance? If not, then what are the possible reasons?\n",
        "* Which Color mode showed better overall performance? What are the possible reasons? Do you think having 'rgb' color mode is needed because the images are already black and white?"
      ]
    },
    {
      "cell_type": "markdown",
      "metadata": {
        "id": "boQi7epI3Lsu"
      },
      "source": [
        "## **Transfer Learning Architectures**\n",
        "\n",
        "In this section, we will create several Transfer Learning architectures. For the pre-trained models, we will select three popular architectures namely, VGG16, ResNet v2, and Efficient Net. The difference between these architectures and the previous architectures is that these will require 3 input channels while the earlier ones worked on 'grayscale' images. Therefore, we need to create new DataLoaders."
      ]
    },
    {
      "cell_type": "markdown",
      "metadata": {
        "id": "7kMsvUQuD89r"
      },
      "source": [
        "### **Creating our Data Loaders for Transfer Learning Architectures**\n",
        "\n",
        "In this section, we are creating data loaders that we will use as inputs to our Neural Network. We will have to go with color_mode = 'rgb' as this is the required format for the transfer learning architectures."
      ]
    },
    {
      "cell_type": "code",
      "execution_count": null,
      "metadata": {
        "id": "hWmbGuuRD89r"
      },
      "outputs": [],
      "source": []
    },
    {
      "cell_type": "markdown",
      "metadata": {
        "id": "vaUYQdkf7pDG"
      },
      "source": [
        "## **VGG16 Model**"
      ]
    },
    {
      "cell_type": "markdown",
      "metadata": {
        "id": "ThCSNrWC4HW0"
      },
      "source": [
        "### **Importing the VGG16 Architecture**"
      ]
    },
    {
      "cell_type": "code",
      "execution_count": null,
      "metadata": {
        "id": "7c83c83e"
      },
      "outputs": [],
      "source": []
    },
    {
      "cell_type": "markdown",
      "metadata": {
        "id": "X76HMyZX4edM"
      },
      "source": [
        "### **Model Building**\n",
        "\n",
        "- Import VGG16 upto the layer of your choice and add Fully Connected layers on top of it."
      ]
    },
    {
      "cell_type": "code",
      "execution_count": null,
      "metadata": {
        "id": "8b123bc6"
      },
      "outputs": [],
      "source": []
    },
    {
      "cell_type": "markdown",
      "metadata": {
        "id": "t6vK7u7w8GsM"
      },
      "source": [
        "### **Compiling and Training the VGG16 Model**"
      ]
    },
    {
      "cell_type": "code",
      "execution_count": null,
      "metadata": {
        "id": "86b249f1"
      },
      "outputs": [],
      "source": []
    },
    {
      "cell_type": "markdown",
      "metadata": {
        "id": "Un-19jPckK07"
      },
      "source": [
        "### **Evaluating the VGG16 model**"
      ]
    },
    {
      "cell_type": "code",
      "execution_count": null,
      "metadata": {
        "id": "t6Y_bSLCkcvr"
      },
      "outputs": [],
      "source": []
    },
    {
      "cell_type": "markdown",
      "metadata": {
        "id": "tW6kPSky59Gv"
      },
      "source": [
        "**Think About It:**\n",
        "\n",
        "- What do you infer from the general trend in the training performance? \n",
        "- Is the training accuracy consistently improving? \n",
        "- Is the validation accuracy also improving similarly?"
      ]
    },
    {
      "cell_type": "markdown",
      "metadata": {
        "id": "YuTi6OAx8q_r"
      },
      "source": [
        "**Observations and Insights:__**"
      ]
    },
    {
      "cell_type": "markdown",
      "metadata": {
        "id": "AfC2Kx0v7Sa1"
      },
      "source": [
        "**Note: You can even go back and build your own architecture on top of the VGG16 Transfer layer and see if you can improve the performance**"
      ]
    },
    {
      "cell_type": "markdown",
      "metadata": {
        "id": "E0Mew4Cc7u7k"
      },
      "source": [
        "## **ResNet V2 Model**"
      ]
    },
    {
      "cell_type": "code",
      "execution_count": null,
      "metadata": {
        "id": "568a5c9a",
        "scrolled": false
      },
      "outputs": [],
      "source": []
    },
    {
      "cell_type": "markdown",
      "metadata": {
        "id": "ay4RedCQlL4O"
      },
      "source": [
        "### **Model Building**\n",
        "\n",
        "- Import Resnet v2 upto the layer of your choice and add Fully Connected layers on top of it."
      ]
    },
    {
      "cell_type": "code",
      "execution_count": null,
      "metadata": {
        "id": "911d3335"
      },
      "outputs": [],
      "source": []
    },
    {
      "cell_type": "markdown",
      "metadata": {
        "id": "Tmtcd1ZElpJy"
      },
      "source": [
        "### **Compiling and Training the Model**"
      ]
    },
    {
      "cell_type": "code",
      "execution_count": null,
      "metadata": {
        "id": "fe959789"
      },
      "outputs": [],
      "source": []
    },
    {
      "cell_type": "markdown",
      "metadata": {
        "id": "McHEzBlhxw39"
      },
      "source": [
        "### **Evaluating the ResNet Model**"
      ]
    },
    {
      "cell_type": "code",
      "execution_count": null,
      "metadata": {
        "id": "IEl6IQf0xwci"
      },
      "outputs": [],
      "source": []
    },
    {
      "cell_type": "markdown",
      "metadata": {
        "id": "3htKZRdomiOY"
      },
      "source": [
        "**Observations and Insights:__**\n",
        "\n",
        "**Note: You can even go back and build your own architecture on top of the ResNet Transfer layer and see if you can improve the performance.**"
      ]
    },
    {
      "cell_type": "markdown",
      "metadata": {
        "id": "FmnDG4ZbncoR"
      },
      "source": [
        "## **EfficientNet Model**"
      ]
    },
    {
      "cell_type": "code",
      "execution_count": null,
      "metadata": {
        "id": "613c7a71"
      },
      "outputs": [],
      "source": []
    },
    {
      "cell_type": "markdown",
      "metadata": {
        "id": "6kDNE8pVngqC"
      },
      "source": [
        "### **Model Building**\n",
        "\n",
        "- Import EfficientNet upto the layer of your choice and add Fully Connected layers on top of it."
      ]
    },
    {
      "cell_type": "code",
      "execution_count": null,
      "metadata": {
        "id": "2b27a6e1"
      },
      "outputs": [],
      "source": []
    },
    {
      "cell_type": "markdown",
      "metadata": {
        "id": "hVv4Df_In32Y"
      },
      "source": [
        "### **Compiling and Training the Model**"
      ]
    },
    {
      "cell_type": "code",
      "execution_count": null,
      "metadata": {
        "id": "dc326cd3"
      },
      "outputs": [],
      "source": []
    },
    {
      "cell_type": "markdown",
      "metadata": {
        "id": "2xjrzYpgoQnN"
      },
      "source": [
        "### **Evaluating the EfficientnetNet Model**"
      ]
    },
    {
      "cell_type": "code",
      "execution_count": null,
      "metadata": {
        "id": "WJVFenvnoQnN"
      },
      "outputs": [],
      "source": []
    },
    {
      "cell_type": "markdown",
      "metadata": {
        "id": "kWlk14FOoQnN"
      },
      "source": [
        "**Observations and Insights:__**\n",
        "\n",
        "**Note: You can even go back and build your own architecture on top of the VGG16 Transfer layer and see if you can improve the performance.**"
      ]
    },
    {
      "cell_type": "markdown",
      "metadata": {
        "id": "fk6QAcv5odNF"
      },
      "source": [
        "**Think About It:**\n",
        "\n",
        "* What is your overall performance of these Transfer Learning Architectures? Can we draw a comparison of these models' performances. Are we satisfied with the accuracies that we have received?\n",
        "* Do you think our issue lies with 'rgb' color_mode?"
      ]
    },
    {
      "cell_type": "markdown",
      "metadata": {
        "id": "-EH3atQP8q_v"
      },
      "source": [
        "Now that we have tried multiple pre-trained models, let's build a complex CNN architecture and see if we can get better performance."
      ]
    },
    {
      "cell_type": "markdown",
      "metadata": {
        "id": "SjKlBaZDpWoV"
      },
      "source": [
        "## **Building a Complex Neural Network Architecture**"
      ]
    },
    {
      "cell_type": "markdown",
      "metadata": {
        "id": "-bMFUj3Fpe75"
      },
      "source": [
        "In this section, we will build a more complex Convolutional Neural Network Model that has close to as many parameters as we had in our Transfer Learning Models. However, we will have only 1 input channel for our input images."
      ]
    },
    {
      "cell_type": "markdown",
      "metadata": {
        "id": "ejGfyYSbtx-F"
      },
      "source": [
        "## **Creating our Data Loaders**\n",
        "\n",
        "In this section, we are creating data loaders which we will use as inputs to the more Complicated Convolutional Neural Network. We will go ahead with color_mode = 'grayscale'."
      ]
    },
    {
      "cell_type": "code",
      "execution_count": null,
      "metadata": {
        "id": "xj1hM5_ttx-F"
      },
      "outputs": [],
      "source": []
    },
    {
      "cell_type": "markdown",
      "metadata": {
        "id": "Ft5U6f1Wie2R"
      },
      "source": [
        "### **Model Building**\n",
        "\n",
        "- Try building a layer with 5 Convolutional Blocks and see if performance increases."
      ]
    },
    {
      "cell_type": "code",
      "execution_count": null,
      "metadata": {
        "id": "37f9194d"
      },
      "outputs": [],
      "source": []
    },
    {
      "cell_type": "markdown",
      "metadata": {
        "id": "fyc0B--hwTHS"
      },
      "source": [
        "### **Compiling and Training the Model**"
      ]
    },
    {
      "cell_type": "code",
      "execution_count": null,
      "metadata": {
        "id": "0edabf52"
      },
      "outputs": [],
      "source": []
    },
    {
      "cell_type": "markdown",
      "metadata": {
        "id": "BbAqrAQQVjIR"
      },
      "source": [
        "### **Evaluating the Model on Test Set**"
      ]
    },
    {
      "cell_type": "code",
      "execution_count": null,
      "metadata": {
        "id": "uO26AYRuVm7F"
      },
      "outputs": [],
      "source": []
    },
    {
      "cell_type": "markdown",
      "metadata": {
        "id": "81uYGSmHwxfD"
      },
      "source": [
        "**Observations and Insights:__**"
      ]
    },
    {
      "cell_type": "markdown",
      "metadata": {
        "id": "GNWc6agwxJ_z"
      },
      "source": [
        "### **Plotting the Confusion Matrix for the chosen final model**"
      ]
    },
    {
      "cell_type": "code",
      "execution_count": null,
      "metadata": {
        "id": "SFTRyIk-yjoQ"
      },
      "outputs": [],
      "source": []
    },
    {
      "cell_type": "markdown",
      "metadata": {
        "id": "LGgvpOrP8q_x"
      },
      "source": [
        "**Observations and Insights:__**"
      ]
    },
    {
      "cell_type": "markdown",
      "metadata": {
        "id": "6s_baiF_KllW"
      },
      "source": [
        "## **Conclusion:____________**"
      ]
    },
    {
      "cell_type": "markdown",
      "metadata": {
        "id": "MEZPA_mN0tUo"
      },
      "source": [
        "### **Insights**\n",
        "\n",
        "### **Refined insights**:\n",
        "- What are the most meaningful insights from the data relevant to the problem?\n",
        "\n",
        "### **Comparison of various techniques and their relative performance**:\n",
        "- How do different techniques perform? Which one is performing relatively better? Is there scope to improve the performance further?\n",
        "\n",
        "### **Proposal for the final solution design**:\n",
        "- What model do you propose to be adopted? Why is this the best solution to adopt?"
      ]
    }
  ],
  "metadata": {
    "colab": {
      "provenance": [],
      "gpuType": "T4",
      "include_colab_link": true
    },
    "kernelspec": {
      "display_name": "Python 3",
      "name": "python3"
    },
    "language_info": {
      "codemirror_mode": {
        "name": "ipython",
        "version": 3
      },
      "file_extension": ".py",
      "mimetype": "text/x-python",
      "name": "python",
      "nbconvert_exporter": "python",
      "pygments_lexer": "ipython3",
      "version": "3.9.7"
    },
    "accelerator": "GPU"
  },
  "nbformat": 4,
  "nbformat_minor": 0
}